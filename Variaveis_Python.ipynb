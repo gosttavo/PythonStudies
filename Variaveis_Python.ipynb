{
  "nbformat": 4,
  "nbformat_minor": 0,
  "metadata": {
    "colab": {
      "name": "Variaveis - Python",
      "provenance": [],
      "collapsed_sections": [],
      "authorship_tag": "ABX9TyMXWGCh17ougxZHVhRcejUZ"
    },
    "kernelspec": {
      "name": "python3",
      "display_name": "Python 3"
    },
    "language_info": {
      "name": "python"
    }
  },
  "cells": [
    {
      "cell_type": "markdown",
      "source": [
        "Operadores de strings \n",
        "\n",
        "---\n",
        "\n",
        "\n",
        "in -> \n",
        "\n",
        "```\n",
        "# substring in string\n",
        "```\n",
        "\n",
        "Verifica se o caracter existe na string e retorna true ou false\n",
        "\n",
        "\n",
        "---\n",
        "\n",
        "\n",
        "len -> \n",
        "\n",
        "```\n",
        "# len(string)\n",
        "```\n",
        "\n",
        "Retorna quantidade de caracteres da string\n",
        "\n",
        "\n",
        "---\n",
        "\n",
        "concat ->\n",
        "\n",
        "```\n",
        "# string1 + string2\n",
        "```\n",
        "\n",
        "Concatena duas strings\n",
        "\n",
        "---\n",
        "\n",
        "Repetição *\n",
        "\n",
        "```\n",
        "# string * int\n",
        "```\n",
        "\n",
        "Multiplica a string\n",
        "\n"
      ],
      "metadata": {
        "id": "JX915lfrYeO1"
      }
    },
    {
      "cell_type": "code",
      "source": [
        "nome = 'gustavo'\n",
        "print(\"G\" in nome)\n",
        "print(\"R\" in nome)\n",
        "print('g' in nome)\n",
        "\n",
        "print(len(nome))\n",
        "\n",
        "sobrenome = 'goulart'\n",
        "\n",
        "print(nome + sobrenome)\n",
        "\n",
        "print(nome * 0)\n",
        "print(nome * 4)"
      ],
      "metadata": {
        "colab": {
          "base_uri": "https://localhost:8080/"
        },
        "id": "UaTCUHloYuPJ",
        "outputId": "236a6dfc-b39e-494c-8e70-87705dc98156"
      },
      "execution_count": null,
      "outputs": [
        {
          "output_type": "stream",
          "name": "stdout",
          "text": [
            "False\n",
            "False\n",
            "True\n",
            "7\n",
            "gustavogoulart\n",
            "\n",
            "gustavogustavogustavogustavo\n"
          ]
        }
      ]
    },
    {
      "cell_type": "markdown",
      "source": [
        "Atividade:\n",
        "\n",
        "1 - Crie um programa que imprima o comprimento de uma string fornecida pelo usuário\n",
        "\n",
        "2 - Escreva um programa para verificar se a palavra 'laranja' está presente na frase 'suco de laranja'"
      ],
      "metadata": {
        "id": "tuaAl0k0b-JE"
      }
    },
    {
      "cell_type": "code",
      "source": [
        "#1\n",
        "string = input(\"digite algo: \")\n",
        "len(string)\n",
        "\n",
        "#2\n",
        "frase = 'isto é suco de laranja'\n",
        "print('laranja' in frase) "
      ],
      "metadata": {
        "colab": {
          "base_uri": "https://localhost:8080/"
        },
        "id": "ivI-YNV4cOl9",
        "outputId": "d3b69962-38a5-4f46-87e7-54dafd279c0b"
      },
      "execution_count": null,
      "outputs": [
        {
          "output_type": "stream",
          "name": "stdout",
          "text": [
            "digite algo: eu\n",
            "True\n"
          ]
        }
      ]
    },
    {
      "cell_type": "markdown",
      "source": [
        "Fatiamento de string\n",
        "\n",
        "\n",
        "---\n",
        "\n",
        "\n",
        "Ferramento para extrair partes dos elementos da string\n",
        "\n",
        "---\n",
        "\n",
        "\n",
        "Retorna string com os elementos das posições do limite inferior até o superior"
      ],
      "metadata": {
        "id": "NNXjnr_WWbKv"
      }
    },
    {
      "cell_type": "code",
      "source": [
        "s = 'Python'\n",
        "print(s[1:4]) #seleciona os elementos das posições 1,2,3\n",
        "print(s[2:]) #seleciona os elementos a partir da posição 2\n",
        "print(s[:4]) #seleciona os elementos até a posição 3\n",
        "print(s[4:]) #vai da posição 4 até o final\n",
        "print(s[-1]) #vai pegar a última posição"
      ],
      "metadata": {
        "colab": {
          "base_uri": "https://localhost:8080/"
        },
        "id": "cOsvxB1LWoLv",
        "outputId": "78a161be-1f59-4463-cd2b-cf4c5f9078c1"
      },
      "execution_count": null,
      "outputs": [
        {
          "output_type": "stream",
          "name": "stdout",
          "text": [
            "yth\n",
            "thon\n",
            "Pyth\n",
            "on\n",
            "n\n"
          ]
        }
      ]
    },
    {
      "cell_type": "markdown",
      "source": [
        "Acessando caracteres de uma string\n",
        "\n",
        "---\n",
        "\n",
        "Primeira posição = 0"
      ],
      "metadata": {
        "id": "aXxTaxpTUhuM"
      }
    },
    {
      "cell_type": "code",
      "source": [
        "nome = 'gustavo'\n",
        "print(nome[0])\n",
        "print(nome[4])\n",
        "print(nome[45]) #fora de alcance"
      ],
      "metadata": {
        "colab": {
          "base_uri": "https://localhost:8080/",
          "height": 235
        },
        "id": "s7sl3j0kVpWW",
        "outputId": "7eedc999-a145-4eb2-c624-e92fbbfcc372"
      },
      "execution_count": null,
      "outputs": [
        {
          "output_type": "stream",
          "name": "stdout",
          "text": [
            "g\n",
            "a\n"
          ]
        },
        {
          "output_type": "error",
          "ename": "IndexError",
          "evalue": "ignored",
          "traceback": [
            "\u001b[0;31m---------------------------------------------------------------------------\u001b[0m",
            "\u001b[0;31mIndexError\u001b[0m                                Traceback (most recent call last)",
            "\u001b[0;32m<ipython-input-31-5e8c205caa1f>\u001b[0m in \u001b[0;36m<module>\u001b[0;34m()\u001b[0m\n\u001b[1;32m      2\u001b[0m \u001b[0mprint\u001b[0m\u001b[0;34m(\u001b[0m\u001b[0mnome\u001b[0m\u001b[0;34m[\u001b[0m\u001b[0;36m0\u001b[0m\u001b[0;34m]\u001b[0m\u001b[0;34m)\u001b[0m\u001b[0;34m\u001b[0m\u001b[0;34m\u001b[0m\u001b[0m\n\u001b[1;32m      3\u001b[0m \u001b[0mprint\u001b[0m\u001b[0;34m(\u001b[0m\u001b[0mnome\u001b[0m\u001b[0;34m[\u001b[0m\u001b[0;36m4\u001b[0m\u001b[0;34m]\u001b[0m\u001b[0;34m)\u001b[0m\u001b[0;34m\u001b[0m\u001b[0;34m\u001b[0m\u001b[0m\n\u001b[0;32m----> 4\u001b[0;31m \u001b[0mprint\u001b[0m\u001b[0;34m(\u001b[0m\u001b[0mnome\u001b[0m\u001b[0;34m[\u001b[0m\u001b[0;36m45\u001b[0m\u001b[0;34m]\u001b[0m\u001b[0;34m)\u001b[0m\u001b[0;34m\u001b[0m\u001b[0;34m\u001b[0m\u001b[0m\n\u001b[0m",
            "\u001b[0;31mIndexError\u001b[0m: string index out of range"
          ]
        }
      ]
    },
    {
      "cell_type": "markdown",
      "source": [
        "Calcule a média das 4 notas"
      ],
      "metadata": {
        "id": "5-okiaPzRVwr"
      }
    },
    {
      "cell_type": "code",
      "source": [
        "somaNota = 0\n",
        "\n",
        "for i in range(4):\n",
        "  nota = int(input(\"digite a nota: \"))\n",
        "  somaNota = nota + somaNota\n",
        "\n",
        "media = (somaNota/4)\n",
        "print(\"média de notas:\", media)"
      ],
      "metadata": {
        "colab": {
          "base_uri": "https://localhost:8080/"
        },
        "id": "A8olnO1wRbqR",
        "outputId": "d4bc2035-d90a-4306-cb0e-c7293be91708"
      },
      "execution_count": null,
      "outputs": [
        {
          "output_type": "stream",
          "name": "stdout",
          "text": [
            "digite a nota8\n",
            "digite a nota6\n",
            "digite a nota7\n",
            "digite a nota6\n",
            "média de notas: 6.75\n"
          ]
        }
      ]
    },
    {
      "cell_type": "markdown",
      "source": [
        "Escreva um código que receba 2 valores de x e y, calcule e imprima o z:"
      ],
      "metadata": {
        "id": "Uvld7k0JL7IU"
      }
    },
    {
      "cell_type": "code",
      "source": [
        "x = int(input(\"digite um número: \"))\n",
        "y = int(input(\"digite outro: \"))\n",
        "\n",
        "xy = (x-y)\n",
        "\n",
        "if (xy == 0):\n",
        "  print(\"divisão por 0\")\n",
        "else:\n",
        "  z = (((x*x) + (y*y))/(xy))\n",
        "  print(z)\n"
      ],
      "metadata": {
        "colab": {
          "base_uri": "https://localhost:8080/"
        },
        "id": "bLxpAPxFMGRo",
        "outputId": "84058cbc-9d5b-4b7b-df11-bb0783f51e8a"
      },
      "execution_count": null,
      "outputs": [
        {
          "output_type": "stream",
          "name": "stdout",
          "text": [
            "digite um número: 3\n",
            "digite outro: 2\n",
            "13.0\n"
          ]
        }
      ]
    },
    {
      "cell_type": "markdown",
      "source": [
        "Função input() -> Comando para entrada de dados \n",
        "\n",
        "---\n",
        "\n",
        "\n",
        "Por padrão ele retorna string, é necessário definir o tipo de variável"
      ],
      "metadata": {
        "id": "yxLkiKmpIVUq"
      }
    },
    {
      "cell_type": "code",
      "source": [
        "nome = input(\"Entre com seu nome: \")\n",
        "print(nome)"
      ],
      "metadata": {
        "colab": {
          "base_uri": "https://localhost:8080/"
        },
        "id": "pDRWHW1RIe4Y",
        "outputId": "4093874c-8da1-4214-c0e5-421e88c716a2"
      },
      "execution_count": null,
      "outputs": [
        {
          "output_type": "stream",
          "name": "stdout",
          "text": [
            "Entre com seu nome: gustavo\n",
            "gustavo\n"
          ]
        }
      ]
    },
    {
      "cell_type": "code",
      "source": [
        "num = int(input(\"Entre com seu número: \"))\n",
        "print(num)"
      ],
      "metadata": {
        "colab": {
          "base_uri": "https://localhost:8080/"
        },
        "id": "mQA_UKUuJjZx",
        "outputId": "33c08e19-3139-484d-b09b-336a6a0e2b92"
      },
      "execution_count": null,
      "outputs": [
        {
          "output_type": "stream",
          "name": "stdout",
          "text": [
            "Entre com seu número: 9\n",
            "9\n"
          ]
        }
      ]
    },
    {
      "cell_type": "markdown",
      "source": [
        "Tipos de variáveis:\n",
        "Char -> Caracteres;\n",
        "\n",
        "---\n",
        "\n",
        "\n",
        "String -> Textos;\n",
        "\n",
        "---\n",
        "\n",
        "\n",
        "Int -> Número inteiro;\n",
        "\n",
        "---\n",
        "\n",
        "\n",
        "Boolean -> Verdadeiro e Falso;\n",
        "\n",
        "---\n",
        "\n",
        "\n",
        "Float -> Número decimal;"
      ],
      "metadata": {
        "id": "0PDxJWd4Hdqt"
      }
    },
    {
      "cell_type": "code",
      "source": [
        "dia = '06'\n",
        "mes = 'fev'\n",
        "ano = '2016'\n",
        "print(dia,mes,ano,sep='/')"
      ],
      "metadata": {
        "colab": {
          "base_uri": "https://localhost:8080/"
        },
        "id": "EHU8QX9hGILr",
        "outputId": "11c3b043-50f2-4ce7-d4f3-f5527c4156c9"
      },
      "execution_count": null,
      "outputs": [
        {
          "output_type": "stream",
          "name": "stdout",
          "text": [
            "06/fev/2016\n"
          ]
        }
      ]
    },
    {
      "cell_type": "code",
      "source": [
        "nome = \"gustavo\"\n",
        "frase = \"meu nome é\"\n",
        "print(frase, nome)"
      ],
      "metadata": {
        "colab": {
          "base_uri": "https://localhost:8080/"
        },
        "id": "d0RLBOP1FdS8",
        "outputId": "a3ae3206-8b4d-4417-fe15-89fe169b58ec"
      },
      "execution_count": null,
      "outputs": [
        {
          "output_type": "stream",
          "name": "stdout",
          "text": [
            "meu nome é gustavo\n"
          ]
        }
      ]
    },
    {
      "cell_type": "code",
      "source": [
        "b = 1.2\n",
        "b"
      ],
      "metadata": {
        "colab": {
          "base_uri": "https://localhost:8080/"
        },
        "id": "zCkruD4rCg_6",
        "outputId": "b7329b84-a1bb-4f38-8cfb-f2c055fee3e3"
      },
      "execution_count": null,
      "outputs": [
        {
          "output_type": "execute_result",
          "data": {
            "text/plain": [
              "1.2"
            ]
          },
          "metadata": {},
          "execution_count": 3
        }
      ]
    },
    {
      "cell_type": "code",
      "source": [
        "c = \"Olá mundo\"\n",
        "c"
      ],
      "metadata": {
        "colab": {
          "base_uri": "https://localhost:8080/",
          "height": 35
        },
        "id": "iQii0WnYCYw5",
        "outputId": "f115ed34-2104-408a-a25f-ce4a30aec676"
      },
      "execution_count": null,
      "outputs": [
        {
          "output_type": "execute_result",
          "data": {
            "text/plain": [
              "'Olá mundo'"
            ],
            "application/vnd.google.colaboratory.intrinsic+json": {
              "type": "string"
            }
          },
          "metadata": {},
          "execution_count": 2
        }
      ]
    },
    {
      "cell_type": "code",
      "execution_count": null,
      "metadata": {
        "colab": {
          "base_uri": "https://localhost:8080/"
        },
        "id": "d4hktWPnCIlO",
        "outputId": "45345c23-47e4-46d4-de61-acdaba65cc22"
      },
      "outputs": [
        {
          "output_type": "execute_result",
          "data": {
            "text/plain": [
              "10"
            ]
          },
          "metadata": {},
          "execution_count": 1
        }
      ],
      "source": [
        "a = 10\n",
        "a"
      ]
    },
    {
      "cell_type": "markdown",
      "source": [
        "Tipos de erro:\n",
        "\n",
        "---\n",
        "\n",
        "\n",
        "\n",
        "Lógica;\n",
        "\n",
        "---\n",
        "\n",
        "\n",
        "Sintaxe;"
      ],
      "metadata": {
        "id": "7OMFaMtlHJxA"
      }
    },
    {
      "cell_type": "code",
      "source": [
        "#a = 10\n",
        "a = \"10\"\n",
        "b = \"10\"\n",
        "c = a + b\n",
        "print(c)\n",
        "#não pode somar str e int"
      ],
      "metadata": {
        "colab": {
          "base_uri": "https://localhost:8080/"
        },
        "id": "RX5cZwfFEWBs",
        "outputId": "23632024-b245-4c7f-9797-b15e16721cc9"
      },
      "execution_count": null,
      "outputs": [
        {
          "output_type": "stream",
          "name": "stdout",
          "text": [
            "1010\n"
          ]
        }
      ]
    }
  ]
}