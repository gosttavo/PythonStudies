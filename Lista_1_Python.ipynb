{
  "nbformat": 4,
  "nbformat_minor": 0,
  "metadata": {
    "colab": {
      "provenance": [],
      "collapsed_sections": [],
      "authorship_tag": "ABX9TyOII2+qrbyVU2HiGTbR/kz1",
      "include_colab_link": true
    },
    "kernelspec": {
      "name": "python3",
      "display_name": "Python 3"
    },
    "language_info": {
      "name": "python"
    }
  },
  "cells": [
    {
      "cell_type": "markdown",
      "metadata": {
        "id": "view-in-github",
        "colab_type": "text"
      },
      "source": [
        "<a href=\"https://colab.research.google.com/github/gosttavo/PythonStudies/blob/main/Lista_1_Python.ipynb\" target=\"_parent\"><img src=\"https://colab.research.google.com/assets/colab-badge.svg\" alt=\"Open In Colab\"/></a>"
      ]
    },
    {
      "cell_type": "markdown",
      "source": [
        "1. Escreva um programa que receba 2 valores do tipo inteiro x e y, e calcule e imprima o valor de z:\n",
        "\n",
        "a. 𝑧=(𝑥2+𝑦2)/𝑥−𝑦"
      ],
      "metadata": {
        "id": "NZPx_AerwbcG"
      }
    },
    {
      "cell_type": "code",
      "source": [
        "x = int(input('número: '))\n",
        "y = int(input('número: '))\n",
        "\n",
        "sub = x-y\n",
        "\n",
        "if (sub == 0):\n",
        "  print('divisão por zero')\n",
        "else:\n",
        "  z = ((x*x)+(y*y))/(sub)\n",
        "  print(z)"
      ],
      "metadata": {
        "id": "UIMvx8-iwgf1"
      },
      "execution_count": null,
      "outputs": []
    },
    {
      "cell_type": "markdown",
      "source": [
        "2. Escreva um programa que receba o salário de um funcionário (float), e retorne o resultado do novo salário com reajuste de 35%."
      ],
      "metadata": {
        "id": "u9ykD8nGwVi-"
      }
    },
    {
      "cell_type": "code",
      "source": [
        "wage = float(input('Digite seu salário: R$ '))\n",
        "\n",
        "newWage = wage + (wage * 0.35)\n",
        "\n",
        "print('Salário reajustado em 35%: R$', newWage)"
      ],
      "metadata": {
        "id": "LhzPLsgBwhAt"
      },
      "execution_count": null,
      "outputs": []
    },
    {
      "cell_type": "markdown",
      "source": [
        "3. Faça um Programa que leia 4 notas, mostre as notas e a média na tela.\n"
      ],
      "metadata": {
        "id": "OwaObWsnvcsF"
      }
    },
    {
      "cell_type": "code",
      "source": [
        "sumScore = 0\n",
        "\n",
        "for i in range(4):\n",
        "  score = int(input('Entre com sua nota: '))\n",
        "  sumScore = sumScore + score\n",
        "\n",
        "avgScore = sumScore/4\n",
        "\n",
        "print('Média de notas : ', avgScore)\n"
      ],
      "metadata": {
        "id": "Abth3e56vefk"
      },
      "execution_count": null,
      "outputs": []
    },
    {
      "cell_type": "markdown",
      "source": [
        "4. Faça um programa que lê o nome de um produto, a quantidade comprada, o valor unitário e o percentual de desconto a ser aplicado para o pagamento. Imprima na tela o nome do produto e o valor total da venda."
      ],
      "metadata": {
        "id": "0rGXHg61wSDF"
      }
    },
    {
      "cell_type": "code",
      "source": [
        "nmProduct = input('Digite o nome do produto: ')\n",
        "qtOrdered = int(input('Digite a quantidade de unidades compradas: '))\n",
        "vlProduct = float(input('Digite o preço unitário: R$ '))\n",
        "psDiscount = float(input('Digite o percentual de desconto do pagamento: '))\n",
        "\n",
        "vlTotal = (vlProduct * qtOrdered)\n",
        "vlTotalDiscount = vlTotal - (vlTotal * (psDiscount/100))\n",
        "\n",
        "print('Comprado:', nmProduct,'por R$', vlTotalDiscount)"
      ],
      "metadata": {
        "id": "qY3O9b1-wiFd"
      },
      "execution_count": null,
      "outputs": []
    },
    {
      "cell_type": "markdown",
      "source": [
        "5. Faça um programa que lê um valor em reais e calcule o valor equivalente em dólares. O usuário deve informar, além do valor em reais da compra, o valor da cotação do dólar."
      ],
      "metadata": {
        "id": "SR5hA9AZ3mb0"
      }
    },
    {
      "cell_type": "code",
      "source": [
        "cotation = float(input('Cotação do dólar: $ 1,00 = R$ '))\n",
        "price = float(input('Digite o preço em reais: R$ '))\n",
        "conversion = price / cotation\n",
        "print('Preço em reais: R$', price,'preço em dólar: $',round(conversion,2))"
      ],
      "metadata": {
        "id": "paGFbran3p3k"
      },
      "execution_count": null,
      "outputs": []
    },
    {
      "cell_type": "markdown",
      "source": [
        "6. Escreva um programa que solicite uma frase ao usuário e escreva a frase toda em maiúscula e sem espaços em branco."
      ],
      "metadata": {
        "id": "_KRb7nQLENxB"
      }
    },
    {
      "cell_type": "code",
      "source": [
        "phrase = input('frase: ')\n",
        "phraseUpper = phrase.upper()\n",
        "\n",
        "print(phraseUpper.replace(' ',''))"
      ],
      "metadata": {
        "id": "gjlXkPFAEx9_"
      },
      "execution_count": null,
      "outputs": []
    },
    {
      "cell_type": "markdown",
      "source": [
        "7. Faça um programa que dada duas strings, s1 e s2 retornam uma nova string composta do primeiro, do meio e do último caracteres de cada string de entrada."
      ],
      "metadata": {
        "id": "tX1lzjJuEP94"
      }
    },
    {
      "cell_type": "code",
      "source": [
        "s1 = input('digite qualquer coisa man: ')\n",
        "s2 = input('digite outra coisa: ')\n",
        "\n",
        "fstLetter = s1[:1]\n",
        "count = len(s1)\n",
        "\n",
        "if (count % 2 == 1):\n",
        "  midImpar = int(count/2 + 0.5)\n",
        "  midLetter = s1[(midImpar - 1):midImpar]\n",
        "else:\n",
        "  midPar = int(count/2)\n",
        "  midLetter = s1[(midPar - 1):(midPar + 1)]\n",
        "  \n",
        "lstLetter = s1[-1]\n",
        "\n",
        "print(fstLetter + midLetter + lstLetter)\n",
        "\n",
        "#------------------------------\n",
        "\n",
        "s2FstLetter = s2[:1]\n",
        "count = len(s2)\n",
        "\n",
        "if (count % 2 == 1):\n",
        "  s2MidImpar = int(count/2 + 0.5)\n",
        "  s2MidLetter = s2[(midImpar - 1):midImpar]\n",
        "else:\n",
        "  s2MidPar = int(count/2)\n",
        "  s2MidLetter = s2[(s2MidPar - 1):(s2MidPar + 1)]\n",
        "  \n",
        "s2LstLetter = s2[-1]\n",
        "\n",
        "print(s2FstLetter + s2MidLetter + s2LstLetter)"
      ],
      "metadata": {
        "id": "LbO35nl_HrcI"
      },
      "execution_count": null,
      "outputs": []
    },
    {
      "cell_type": "markdown",
      "source": [
        "8. Faça um programa que leia dois valores numéricos e realize a soma, subtração, multiplicação e divisão deles."
      ],
      "metadata": {
        "id": "AZ1dfMSDESpL"
      }
    },
    {
      "cell_type": "code",
      "source": [
        "n1 = int(input('numero: '))\n",
        "n2 = int(input('numero: '))\n",
        "\n",
        "choice = int(input('digite 1 - para somar, 2 - para substrair, 3 - para multiplicar e 4 - para dividir:'))\n",
        "\n",
        "if (choice == 1):\n",
        "  print(n1+n2)\n",
        "elif(choice == 2):\n",
        "  print(n1-n2)\n",
        "elif(choice == 3):\n",
        "  print(n1*n2)\n",
        "elif (choice == 4):\n",
        "  if (n2 == 0):\n",
        "    print('divisão por zero')\n",
        "  else:\n",
        "    print(n1/n2)"
      ],
      "metadata": {
        "id": "G7EpxXgEaOY5"
      },
      "execution_count": null,
      "outputs": []
    },
    {
      "cell_type": "markdown",
      "source": [
        "9. Escreva um programa para verificar se a palavra 'laranja' está presente em \"Isto é suco de laranja\"."
      ],
      "metadata": {
        "id": "VEnzpNMbET9T"
      }
    },
    {
      "cell_type": "code",
      "source": [
        "frase = 'isto é suco de laranja'\n",
        "print('laranja' in frase) "
      ],
      "metadata": {
        "id": "1hsY9AxZnCp0"
      },
      "execution_count": null,
      "outputs": []
    },
    {
      "cell_type": "markdown",
      "source": [
        "10. Crie um programa que imprima o comprimento de uma string fornecida pelo usuário."
      ],
      "metadata": {
        "id": "Sc4bke2_EVK7"
      }
    },
    {
      "cell_type": "code",
      "source": [
        "phrase = input('me da a string: ')\n",
        "print('comprimento de',len(phrase),'letras')"
      ],
      "metadata": {
        "id": "yD2E73w_e56x"
      },
      "execution_count": null,
      "outputs": []
    },
    {
      "cell_type": "markdown",
      "source": [
        "\n",
        "11. Ler uma lista de 5 números inteiros e mostre cada número juntamente com a sua posição na lista."
      ],
      "metadata": {
        "id": "WwuwZRhfEWl7"
      }
    },
    {
      "cell_type": "code",
      "source": [
        "number = []\n",
        "\n",
        "for i in range(5):\n",
        "  number.append(int(input('digite um número: ')))\n",
        "\n",
        "for item in enumerate(number):\n",
        "  print(item)"
      ],
      "metadata": {
        "id": "d6GlIJoyfwii"
      },
      "execution_count": null,
      "outputs": []
    },
    {
      "cell_type": "markdown",
      "source": [
        "12. Ler uma lista com 4 notas, em seguida o programa deve exibir as notas e a \n",
        "média."
      ],
      "metadata": {
        "id": "gymjUcFMEYhD"
      }
    },
    {
      "cell_type": "code",
      "source": [
        "nota = []\n",
        "\n",
        "for i in range(4):\n",
        "  nota.append(int(input('Digite sua nota: ')))\n",
        "\n",
        "print('Suas notas: {}, a média da sua nota é: {}'.format(nota, sum(nota)/4))"
      ],
      "metadata": {
        "id": "Af0QKl7Jl4bO"
      },
      "execution_count": null,
      "outputs": []
    },
    {
      "cell_type": "markdown",
      "source": [
        "13. Faça um Programa que peça a idade e a altura de 5 pessoas, armazene cada informação no seu respectivo vetor. Imprima a idade e a altura na ordem inversa a ordem lida."
      ],
      "metadata": {
        "id": "68kkL3wwEZzz"
      }
    },
    {
      "cell_type": "code",
      "source": [
        "idade = []\n",
        "altura =[]\n",
        "\n",
        "for i in range(5):\n",
        "  idade.append(int(input('digite sua idade: ' )))\n",
        "  altura.append(float(input('digite sua altura: ')))\n",
        "\n",
        "idadeInversa = idade[::-1]\n",
        "print(idadeInversa)\n",
        "alturaInversa = altura[::-1]\n",
        "print(alturaInversa)"
      ],
      "metadata": {
        "id": "r2qo_ei3nKB8"
      },
      "execution_count": null,
      "outputs": []
    },
    {
      "cell_type": "markdown",
      "source": [
        "14. Dadas duas listas L1 e L2, com n valores inteiros, respectivamente, escreva um programa que concatene as listas L1 e L2 em uma nova lista L3. Em seguida, imprima a lista L3 ordenada de maneira crescente e decrescente."
      ],
      "metadata": {
        "id": "BN4sIZ_1EbEb"
      }
    },
    {
      "cell_type": "code",
      "source": [
        "l1 = []\n",
        "l2 = []\n",
        "\n",
        "n = int(input('digite o valor de n: '))\n",
        "\n",
        "for i in range(n):\n",
        "  l1.append(int(input('numero: ')))\n",
        "\n",
        "for i in range(n):\n",
        "  l2.append(int(input('numero: ')))\n",
        "\n",
        "l3 = l1 + l2\n",
        "\n",
        "l3.sort()\n",
        "print(l3)\n",
        "\n",
        "l3.sort(reverse=True)\n",
        "print(l3)\n",
        "  "
      ],
      "metadata": {
        "id": "4Ea7k9EDRBuA"
      },
      "execution_count": null,
      "outputs": []
    },
    {
      "cell_type": "markdown",
      "source": [
        "15. Crie um Python Script que conte quantas vezes um nome está presente em uma lista [’nome1’, ’nome2’, ...] e armazena essa contagem em um dicionário {’nome’: xvezes}"
      ],
      "metadata": {
        "id": "94T6_2EMEcg7"
      }
    },
    {
      "cell_type": "code",
      "source": [
        "nome = []\n",
        "\n",
        "for i in range (5):\n",
        "  nome.append(input('digite o nome: '))\n",
        "\n",
        "nomeBuscar = input('digite o nome que você quer buscar: ')\n",
        "\n",
        "cont = nome.count(nomeBuscar)\n",
        "\n",
        "dictionary = {\n",
        "    nomeBuscar:cont\n",
        "}\n",
        "\n",
        "print(dictionary)"
      ],
      "metadata": {
        "id": "jN4vQk-JljEm"
      },
      "execution_count": null,
      "outputs": []
    }
  ]
}